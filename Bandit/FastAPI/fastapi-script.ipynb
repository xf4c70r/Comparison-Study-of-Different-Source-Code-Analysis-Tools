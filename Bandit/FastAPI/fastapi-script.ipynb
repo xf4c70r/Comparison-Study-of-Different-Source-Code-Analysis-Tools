{
 "cells": [
  {
   "cell_type": "code",
   "execution_count": 7,
   "id": "9bfe3a36-0210-4194-99fb-a28bc44adf14",
   "metadata": {},
   "outputs": [
    {
     "name": "stdout",
     "output_type": "stream",
     "text": [
      "       CWE Severity Confidence  Count\n",
      "0  CWE-259      Low     Medium     14\n",
      "1  CWE-703      Low       High   1635\n",
      "2  CWE-400   Medium        Low      3\n",
      "3  CWE-605   Medium     Medium      1\n"
     ]
    }
   ],
   "source": [
    "import re\n",
    "import pandas as pd\n",
    "from collections import defaultdict\n",
    "\n",
    "# Define the path to your text file\n",
    "file_path = 'fastapi.txt'\n",
    "\n",
    "# Initialize dictionaries to store counts\n",
    "vulnerability_data = defaultdict(lambda: defaultdict(lambda: defaultdict(int)))\n",
    "\n",
    "# Regular expressions to capture Severity, Confidence, and CWE\n",
    "severity_confidence_pattern = r'Severity: (\\w+)\\s+Confidence: (\\w+)'\n",
    "cwe_pattern = r'CWE: (CWE-\\d+)'\n",
    "\n",
    "# Read the file content\n",
    "with open(file_path, 'r') as file:\n",
    "    content = file.read()\n",
    "\n",
    "# Split the content by each vulnerability block\n",
    "vulnerabilities = content.split('--------------------------------------------------')\n",
    "\n",
    "# Parse each vulnerability block\n",
    "for vulnerability in vulnerabilities:\n",
    "    severity_confidence_match = re.search(severity_confidence_pattern, vulnerability)\n",
    "    cwe_match = re.search(cwe_pattern, vulnerability)\n",
    "\n",
    "    # If all patterns match, increase the count\n",
    "    if severity_confidence_match and cwe_match:\n",
    "        severity = severity_confidence_match.group(1)\n",
    "        confidence = severity_confidence_match.group(2)\n",
    "        cwe_type = cwe_match.group(1)\n",
    "        vulnerability_data[cwe_type][severity][confidence] += 1\n",
    "\n",
    "# Convert the nested dictionary to a DataFrame\n",
    "rows = []\n",
    "for cwe, severities in vulnerability_data.items():\n",
    "    for severity, confidences in severities.items():\n",
    "        for confidence, count in confidences.items():\n",
    "            rows.append([cwe, severity, confidence, count])\n",
    "\n",
    "# Create a DataFrame and display it\n",
    "df = pd.DataFrame(rows, columns=['CWE', 'Severity', 'Confidence', 'Count'])\n",
    "print(df)\n"
   ]
  },
  {
   "cell_type": "code",
   "execution_count": 8,
   "id": "d5087439-0f8b-4ccf-9edd-63eeee7956b2",
   "metadata": {},
   "outputs": [
    {
     "name": "stdout",
     "output_type": "stream",
     "text": [
      "        CWE Severity Confidence  Count\n",
      "0   CWE-703      Low       High    113\n",
      "1   CWE-259      Low     Medium    312\n",
      "2   CWE-838     High     Medium      2\n",
      "3    CWE-80   Medium       High     65\n",
      "4    CWE-79   Medium       High    183\n",
      "5   CWE-327     High       High     20\n",
      "6    CWE-89   Medium        Low     20\n",
      "7    CWE-89   Medium     Medium     64\n",
      "8    CWE-78   Medium       High      9\n",
      "9    CWE-78      Low       High     41\n",
      "10   CWE-78     High       High      2\n",
      "11  CWE-502      Low       High     27\n",
      "12  CWE-502   Medium       High     76\n",
      "13   CWE-22   Medium       High      9\n",
      "14   CWE-20      Low       High     11\n",
      "15   CWE-20   Medium       High     37\n",
      "16  CWE-330      Low       High     10\n",
      "17  CWE-605   Medium     Medium      6\n",
      "18  CWE-377   Medium     Medium     27\n",
      "19  CWE-732     High       High      1\n"
     ]
    }
   ],
   "source": [
    "import re\n",
    "import pandas as pd\n",
    "from collections import defaultdict\n",
    "\n",
    "# Define the path to your text file\n",
    "file_path = 'django.txt'\n",
    "\n",
    "# Initialize dictionaries to store counts\n",
    "vulnerability_data = defaultdict(lambda: defaultdict(lambda: defaultdict(int)))\n",
    "\n",
    "# Regular expressions to capture Severity, Confidence, and CWE\n",
    "severity_confidence_pattern = r'Severity: (\\w+)\\s+Confidence: (\\w+)'\n",
    "cwe_pattern = r'CWE: (CWE-\\d+)'\n",
    "\n",
    "# Read the file content\n",
    "with open(file_path, 'r') as file:\n",
    "    content = file.read()\n",
    "\n",
    "# Split the content by each vulnerability block\n",
    "vulnerabilities = content.split('--------------------------------------------------')\n",
    "\n",
    "# Parse each vulnerability block\n",
    "for vulnerability in vulnerabilities:\n",
    "    severity_confidence_match = re.search(severity_confidence_pattern, vulnerability)\n",
    "    cwe_match = re.search(cwe_pattern, vulnerability)\n",
    "\n",
    "    # If all patterns match, increase the count\n",
    "    if severity_confidence_match and cwe_match:\n",
    "        severity = severity_confidence_match.group(1)\n",
    "        confidence = severity_confidence_match.group(2)\n",
    "        cwe_type = cwe_match.group(1)\n",
    "        vulnerability_data[cwe_type][severity][confidence] += 1\n",
    "\n",
    "# Convert the nested dictionary to a DataFrame\n",
    "rows = []\n",
    "for cwe, severities in vulnerability_data.items():\n",
    "    for severity, confidences in severities.items():\n",
    "        for confidence, count in confidences.items():\n",
    "            rows.append([cwe, severity, confidence, count])\n",
    "\n",
    "# Create a DataFrame and display it\n",
    "df = pd.DataFrame(rows, columns=['CWE', 'Severity', 'Confidence', 'Count'])\n",
    "print(df)\n"
   ]
  },
  {
   "cell_type": "code",
   "execution_count": null,
   "id": "085de0fd-0a36-4142-af1e-b1ec4915eeef",
   "metadata": {},
   "outputs": [],
   "source": []
  }
 ],
 "metadata": {
  "kernelspec": {
   "display_name": "Python 3 (ipykernel)",
   "language": "python",
   "name": "python3"
  },
  "language_info": {
   "codemirror_mode": {
    "name": "ipython",
    "version": 3
   },
   "file_extension": ".py",
   "mimetype": "text/x-python",
   "name": "python",
   "nbconvert_exporter": "python",
   "pygments_lexer": "ipython3",
   "version": "3.11.5"
  }
 },
 "nbformat": 4,
 "nbformat_minor": 5
}
